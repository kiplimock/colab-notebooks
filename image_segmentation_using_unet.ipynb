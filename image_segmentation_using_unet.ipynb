{
  "nbformat": 4,
  "nbformat_minor": 0,
  "metadata": {
    "colab": {
      "provenance": [],
      "authorship_tag": "ABX9TyNiC7dV/f/oThkWHvgSiW/B",
      "include_colab_link": true
    },
    "kernelspec": {
      "name": "python3",
      "display_name": "Python 3"
    },
    "language_info": {
      "name": "python"
    }
  },
  "cells": [
    {
      "cell_type": "markdown",
      "metadata": {
        "id": "view-in-github",
        "colab_type": "text"
      },
      "source": [
        "<a href=\"https://colab.research.google.com/github/kiplimock/colab-notebooks/blob/main/image_segmentation_using_unet.ipynb\" target=\"_parent\"><img src=\"https://colab.research.google.com/assets/colab-badge.svg\" alt=\"Open In Colab\"/></a>"
      ]
    },
    {
      "cell_type": "markdown",
      "source": [
        "## Image Segmentation with UNet Architecture\n",
        "\n",
        "Author: [@kiplimock](https://github.com/kiplimock)\n",
        "\n",
        "Original source: [@bnsreenu](https://github.com/bnsreenu/python_for_microscopists/blob/master/074-Defining%20U-net%20in%20Python%20using%20Keras.py)"
      ],
      "metadata": {
        "id": "SNjJ8Ea_UrIe"
      }
    },
    {
      "cell_type": "code",
      "source": [
        "import tensorflow as tf\n",
        "\n",
        "IMG_WIDTH = 128\n",
        "IMG_HEIGHT = 128\n",
        "IMG_CHANNELS = 3"
      ],
      "metadata": {
        "id": "cU1KIyZoUqae"
      },
      "execution_count": 1,
      "outputs": []
    },
    {
      "cell_type": "code",
      "source": [
        "# Building the model\n",
        "inputs = tf.keras.layers.Input(shape=(IMG_HEIGHT, IMG_WIDTH, IMG_CHANNELS))\n",
        "inputs = tf.keras.layers.Lambda(lambda x: x / 255.0)(inputs)"
      ],
      "metadata": {
        "id": "XkrKBzQTV_IH"
      },
      "execution_count": 2,
      "outputs": []
    },
    {
      "cell_type": "markdown",
      "source": [
        "### Contraction Path"
      ],
      "metadata": {
        "id": "QzDyzqTWWwol"
      }
    },
    {
      "cell_type": "code",
      "source": [
        "c1 = tf.keras.layers.Conv2D(16, (3, 3), activation='relu', padding='same', kernel_initializer='he_normal')(inputs)\n",
        "c1 = tf.keras.layers.Dropout(0.1)(c1)\n",
        "c1 = tf.keras.layers.Conv2D(16, (3, 3), activation='relu', padding='same', kernel_initializer='he_normal')(c1)\n",
        "p1 = tf.keras.layers.MaxPool2D(pool_size=(2, 2))(c1)\n",
        "\n",
        "c2 = tf.keras.layers.Conv2D(32, (3, 3), activation='relu', padding='same', kernel_initializer='he_normal')(p1)\n",
        "c2 = tf.keras.layers.Dropout(0.1)(c2)\n",
        "c2 = tf.keras.layers.Conv2D(32, (3, 3), activation='relu', padding='same', kernel_initializer='he_normal')(c2)\n",
        "p2 = tf.keras.layers.MaxPool2D(pool_size=(2, 2))(c2)\n",
        "\n",
        "c3 = tf.keras.layers.Conv2D(64, (3, 3), activation='relu', padding='same', kernel_initializer='he_normal')(p2)\n",
        "c3 = tf.keras.layers.Dropout(0.2)(c3)\n",
        "c3 = tf.keras.layers.Conv2D(64, (3, 3), activation='relu', padding='same', kernel_initializer='he_normal')(c3)\n",
        "p3 = tf.keras.layers.MaxPool2D(pool_size=(2, 2))(c3)\n",
        "\n",
        "c4 = tf.keras.layers.Conv2D(128, (3, 3), activation='relu', padding='same', kernel_initializer='he_normal')(p3)\n",
        "c4 = tf.keras.layers.Dropout(0.2)(c4)\n",
        "c4 = tf.keras.layers.Conv2D(128, (3, 3), activation='relu', padding='same', kernel_initializer='he_normal')(c4)\n",
        "p4 = tf.keras.layers.MaxPool2D(pool_size=(2, 2))(c4)\n",
        "\n",
        "c5 = tf.keras.layers.Conv2D(256, (3, 3), activation='relu', padding='same', kernel_initializer='he_normal')(p4)\n",
        "c5 = tf.keras.layers.Dropout(0.3)(c5)\n",
        "c5 = tf.keras.layers.Conv2D(256, (3, 3), activation='relu', padding='same', kernel_initializer='he_normal')(c5)"
      ],
      "metadata": {
        "id": "MP-LL7YMWyd7"
      },
      "execution_count": 8,
      "outputs": []
    },
    {
      "cell_type": "markdown",
      "source": [
        "### Expansion Path"
      ],
      "metadata": {
        "id": "p2i6RRcyYwqd"
      }
    },
    {
      "cell_type": "code",
      "source": [
        "u6 = tf.keras.layers.Conv2DTranspose(128, (2, 2), strides=(2, 2), padding='same')(c5)\n",
        "u6 = tf.keras.layers.concatenate([u6, c4])\n",
        "c6 = tf.keras.layers.Conv2D(128, (3, 3), activation='relu', padding='same', kernel_initializer='he_normal')(u6)\n",
        "c6 = tf.keras.layers.Dropout(0.2)(c6)\n",
        "c6 = tf.keras.layers.Conv2D(128, (3, 3), activation='relu', padding='same', kernel_initializer='he_normal')(c6)\n",
        "\n",
        "u7 = tf.keras.layers.Conv2DTranspose(64, (2, 2), strides=(2, 2), padding='same')(c6)\n",
        "u7 = tf.keras.layers.concatenate([u7, c3])\n",
        "c7 = tf.keras.layers.Conv2D(64, (3, 3), activation='relu', padding='same', kernel_initializer='he_normal')(u7)\n",
        "c7 = tf.keras.layers.Dropout(0.2)(c7)\n",
        "c7 = tf.keras.layers.Conv2D(64, (3, 3), activation='relu', padding='same', kernel_initializer='he_normal')(c7)\n",
        "\n",
        "u8 = tf.keras.layers.Conv2DTranspose(32, (2, 2), strides=(2, 2), padding='same')(c7)\n",
        "u8 = tf.keras.layers.concatenate([u8, c2])\n",
        "c8 = tf.keras.layers.Conv2D(32, (3, 3), activation='relu', padding='same', kernel_initializer='he_normal')(u8)\n",
        "c8 = tf.keras.layers.Dropout(0.1)(c8)\n",
        "c8 = tf.keras.layers.Conv2D(32, (3, 3), activation='relu', padding='same', kernel_initializer='he_normal')(c8)\n",
        "\n",
        "u9 = tf.keras.layers.Conv2DTranspose(16, (2, 2), strides=(2, 2), padding='same')(c8)\n",
        "u9 = tf.keras.layers.concatenate([u9, c1])\n",
        "c9 = tf.keras.layers.Conv2D(16, (3, 3), activation='relu', padding='same', kernel_initializer='he_normal')(u9)\n",
        "c9 = tf.keras.layers.Dropout(0.1)(c9)\n",
        "c9 = tf.keras.layers.Conv2D(16, (3, 3), activation='relu', padding='same', kernel_initializer='he_normal')(c9)"
      ],
      "metadata": {
        "id": "UDPH2SkHYyNp"
      },
      "execution_count": 13,
      "outputs": []
    },
    {
      "cell_type": "code",
      "source": [
        "# model output\n",
        "outputs = tf.keras.layers.Conv2D(1, (1, 1), activation='sigmoid')(c9)"
      ],
      "metadata": {
        "id": "NeWz6CwgpJjD"
      },
      "execution_count": 14,
      "outputs": []
    },
    {
      "cell_type": "markdown",
      "source": [
        "### Compiling the Model"
      ],
      "metadata": {
        "id": "NfZsImJdpaUa"
      }
    },
    {
      "cell_type": "code",
      "source": [
        "model = tf.keras.Model(inputs=[inputs], outputs=[outputs])\n",
        "model.compile(optimizer='adam', loss='binary_crossentropy', metrics=['accuracy'])\n",
        "model.summary()"
      ],
      "metadata": {
        "id": "dwJY5_aWpdv3",
        "outputId": "bda72443-88db-488e-a4bd-6dd28e2c0ee9",
        "colab": {
          "base_uri": "https://localhost:8080/"
        }
      },
      "execution_count": 15,
      "outputs": [
        {
          "output_type": "stream",
          "name": "stdout",
          "text": [
            "Model: \"model\"\n",
            "__________________________________________________________________________________________________\n",
            " Layer (type)                Output Shape                 Param #   Connected to                  \n",
            "==================================================================================================\n",
            " input_2 (InputLayer)        [(None, 128, 128, 3)]        0         []                            \n",
            "                                                                                                  \n",
            " conv2d_10 (Conv2D)          (None, 128, 128, 16)         448       ['input_2[0][0]']             \n",
            "                                                                                                  \n",
            " dropout_5 (Dropout)         (None, 128, 128, 16)         0         ['conv2d_10[1][0]']           \n",
            "                                                                                                  \n",
            " conv2d_11 (Conv2D)          (None, 128, 128, 16)         2320      ['dropout_5[1][0]']           \n",
            "                                                                                                  \n",
            " max_pooling2d_5 (MaxPoolin  (None, 64, 64, 16)           0         ['conv2d_11[1][0]']           \n",
            " g2D)                                                                                             \n",
            "                                                                                                  \n",
            " conv2d_12 (Conv2D)          (None, 64, 64, 32)           4640      ['max_pooling2d_5[1][0]']     \n",
            "                                                                                                  \n",
            " dropout_6 (Dropout)         (None, 64, 64, 32)           0         ['conv2d_12[1][0]']           \n",
            "                                                                                                  \n",
            " conv2d_13 (Conv2D)          (None, 64, 64, 32)           9248      ['dropout_6[1][0]']           \n",
            "                                                                                                  \n",
            " max_pooling2d_6 (MaxPoolin  (None, 32, 32, 32)           0         ['conv2d_13[1][0]']           \n",
            " g2D)                                                                                             \n",
            "                                                                                                  \n",
            " conv2d_14 (Conv2D)          (None, 32, 32, 64)           18496     ['max_pooling2d_6[1][0]']     \n",
            "                                                                                                  \n",
            " dropout_7 (Dropout)         (None, 32, 32, 64)           0         ['conv2d_14[1][0]']           \n",
            "                                                                                                  \n",
            " conv2d_15 (Conv2D)          (None, 32, 32, 64)           36928     ['dropout_7[1][0]']           \n",
            "                                                                                                  \n",
            " max_pooling2d_7 (MaxPoolin  (None, 16, 16, 64)           0         ['conv2d_15[1][0]']           \n",
            " g2D)                                                                                             \n",
            "                                                                                                  \n",
            " conv2d_16 (Conv2D)          (None, 16, 16, 128)          73856     ['max_pooling2d_7[1][0]']     \n",
            "                                                                                                  \n",
            " dropout_8 (Dropout)         (None, 16, 16, 128)          0         ['conv2d_16[1][0]']           \n",
            "                                                                                                  \n",
            " conv2d_17 (Conv2D)          (None, 16, 16, 128)          147584    ['dropout_8[1][0]']           \n",
            "                                                                                                  \n",
            " max_pooling2d_8 (MaxPoolin  (None, 8, 8, 128)            0         ['conv2d_17[1][0]']           \n",
            " g2D)                                                                                             \n",
            "                                                                                                  \n",
            " conv2d_18 (Conv2D)          (None, 8, 8, 256)            295168    ['max_pooling2d_8[1][0]']     \n",
            "                                                                                                  \n",
            " dropout_9 (Dropout)         (None, 8, 8, 256)            0         ['conv2d_18[1][0]']           \n",
            "                                                                                                  \n",
            " conv2d_19 (Conv2D)          (None, 8, 8, 256)            590080    ['dropout_9[1][0]']           \n",
            "                                                                                                  \n",
            " conv2d_transpose_5 (Conv2D  (None, 16, 16, 128)          131200    ['conv2d_19[1][0]']           \n",
            " Transpose)                                                                                       \n",
            "                                                                                                  \n",
            " concatenate_1 (Concatenate  (None, 16, 16, 256)          0         ['conv2d_transpose_5[1][0]',  \n",
            " )                                                                   'conv2d_17[1][0]']           \n",
            "                                                                                                  \n",
            " conv2d_20 (Conv2D)          (None, 16, 16, 128)          295040    ['concatenate_1[1][0]']       \n",
            "                                                                                                  \n",
            " dropout_10 (Dropout)        (None, 16, 16, 128)          0         ['conv2d_20[1][0]']           \n",
            "                                                                                                  \n",
            " conv2d_21 (Conv2D)          (None, 16, 16, 128)          147584    ['dropout_10[1][0]']          \n",
            "                                                                                                  \n",
            " conv2d_transpose_6 (Conv2D  (None, 32, 32, 64)           32832     ['conv2d_21[1][0]']           \n",
            " Transpose)                                                                                       \n",
            "                                                                                                  \n",
            " concatenate_2 (Concatenate  (None, 32, 32, 128)          0         ['conv2d_transpose_6[1][0]',  \n",
            " )                                                                   'conv2d_15[1][0]']           \n",
            "                                                                                                  \n",
            " conv2d_22 (Conv2D)          (None, 32, 32, 64)           73792     ['concatenate_2[1][0]']       \n",
            "                                                                                                  \n",
            " dropout_11 (Dropout)        (None, 32, 32, 64)           0         ['conv2d_22[1][0]']           \n",
            "                                                                                                  \n",
            " conv2d_23 (Conv2D)          (None, 32, 32, 64)           36928     ['dropout_11[1][0]']          \n",
            "                                                                                                  \n",
            " conv2d_transpose_7 (Conv2D  (None, 64, 64, 32)           8224      ['conv2d_23[1][0]']           \n",
            " Transpose)                                                                                       \n",
            "                                                                                                  \n",
            " concatenate_3 (Concatenate  (None, 64, 64, 64)           0         ['conv2d_transpose_7[1][0]',  \n",
            " )                                                                   'conv2d_13[1][0]']           \n",
            "                                                                                                  \n",
            " conv2d_24 (Conv2D)          (None, 64, 64, 32)           18464     ['concatenate_3[1][0]']       \n",
            "                                                                                                  \n",
            " dropout_12 (Dropout)        (None, 64, 64, 32)           0         ['conv2d_24[1][0]']           \n",
            "                                                                                                  \n",
            " conv2d_25 (Conv2D)          (None, 64, 64, 32)           9248      ['dropout_12[1][0]']          \n",
            "                                                                                                  \n",
            " conv2d_transpose_8 (Conv2D  (None, 128, 128, 16)         2064      ['conv2d_25[1][0]']           \n",
            " Transpose)                                                                                       \n",
            "                                                                                                  \n",
            " concatenate_4 (Concatenate  (None, 128, 128, 32)         0         ['conv2d_transpose_8[1][0]',  \n",
            " )                                                                   'conv2d_11[1][0]']           \n",
            "                                                                                                  \n",
            " conv2d_26 (Conv2D)          (None, 128, 128, 16)         4624      ['concatenate_4[1][0]']       \n",
            "                                                                                                  \n",
            " dropout_13 (Dropout)        (None, 128, 128, 16)         0         ['conv2d_26[1][0]']           \n",
            "                                                                                                  \n",
            " conv2d_27 (Conv2D)          (None, 128, 128, 16)         2320      ['dropout_13[1][0]']          \n",
            "                                                                                                  \n",
            " conv2d_28 (Conv2D)          (None, 128, 128, 1)          17        ['conv2d_27[1][0]']           \n",
            "                                                                                                  \n",
            "==================================================================================================\n",
            "Total params: 1941105 (7.40 MB)\n",
            "Trainable params: 1941105 (7.40 MB)\n",
            "Non-trainable params: 0 (0.00 Byte)\n",
            "__________________________________________________________________________________________________\n"
          ]
        }
      ]
    }
  ]
}