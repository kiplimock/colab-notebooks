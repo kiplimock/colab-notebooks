{
  "nbformat": 4,
  "nbformat_minor": 0,
  "metadata": {
    "colab": {
      "provenance": [],
      "authorship_tag": "ABX9TyOFcc1s7q5b43AdgVPpC/Z8",
      "include_colab_link": true
    },
    "kernelspec": {
      "name": "python3",
      "display_name": "Python 3"
    },
    "language_info": {
      "name": "python"
    }
  },
  "cells": [
    {
      "cell_type": "markdown",
      "metadata": {
        "id": "view-in-github",
        "colab_type": "text"
      },
      "source": [
        "<a href=\"https://colab.research.google.com/github/kiplimock/colab-notebooks/blob/main/image_segmentation_using_unet.ipynb\" target=\"_parent\"><img src=\"https://colab.research.google.com/assets/colab-badge.svg\" alt=\"Open In Colab\"/></a>"
      ]
    },
    {
      "cell_type": "markdown",
      "source": [
        "## Image Segmentation with UNet Architecture\n",
        "\n",
        "Author: [@kiplimock](https://github.com/kiplimock)\n",
        "\n",
        "Original source: [@bnsreenu](https://github.com/bnsreenu/python_for_microscopists/blob/master/074-Defining%20U-net%20in%20Python%20using%20Keras.py)"
      ],
      "metadata": {
        "id": "SNjJ8Ea_UrIe"
      }
    },
    {
      "cell_type": "code",
      "source": [
        "import os\n",
        "import tensorflow as tf\n",
        "import numpy as np\n",
        "import cv2\n",
        "import matplotlib.pyplot as plt\n",
        "\n",
        "from tqdm import tqdm\n",
        "from glob import glob\n",
        "from zipfile import ZipFile\n",
        "from urllib.request import urlretrieve\n",
        "from skimage.io import imread, imshow\n",
        "from skimage.transform import resize"
      ],
      "metadata": {
        "id": "WQJwmLrzTNqD"
      },
      "execution_count": 50,
      "outputs": []
    },
    {
      "cell_type": "code",
      "source": [
        "IMG_WIDTH = 128\n",
        "IMG_HEIGHT = 128\n",
        "IMG_CHANNELS = 3"
      ],
      "metadata": {
        "id": "cU1KIyZoUqae"
      },
      "execution_count": 9,
      "outputs": []
    },
    {
      "cell_type": "code",
      "source": [
        "# Building the model\n",
        "inputs = tf.keras.layers.Input(shape=(IMG_HEIGHT, IMG_WIDTH, IMG_CHANNELS))\n",
        "inputs = tf.keras.layers.Lambda(lambda x: x / 255.0)(inputs)"
      ],
      "metadata": {
        "id": "XkrKBzQTV_IH"
      },
      "execution_count": 2,
      "outputs": []
    },
    {
      "cell_type": "markdown",
      "source": [
        "### Contraction Path"
      ],
      "metadata": {
        "id": "QzDyzqTWWwol"
      }
    },
    {
      "cell_type": "code",
      "source": [
        "c1 = tf.keras.layers.Conv2D(16, (3, 3), activation='relu', padding='same', kernel_initializer='he_normal')(inputs)\n",
        "c1 = tf.keras.layers.Dropout(0.1)(c1)\n",
        "c1 = tf.keras.layers.Conv2D(16, (3, 3), activation='relu', padding='same', kernel_initializer='he_normal')(c1)\n",
        "p1 = tf.keras.layers.MaxPool2D(pool_size=(2, 2))(c1)\n",
        "\n",
        "c2 = tf.keras.layers.Conv2D(32, (3, 3), activation='relu', padding='same', kernel_initializer='he_normal')(p1)\n",
        "c2 = tf.keras.layers.Dropout(0.1)(c2)\n",
        "c2 = tf.keras.layers.Conv2D(32, (3, 3), activation='relu', padding='same', kernel_initializer='he_normal')(c2)\n",
        "p2 = tf.keras.layers.MaxPool2D(pool_size=(2, 2))(c2)\n",
        "\n",
        "c3 = tf.keras.layers.Conv2D(64, (3, 3), activation='relu', padding='same', kernel_initializer='he_normal')(p2)\n",
        "c3 = tf.keras.layers.Dropout(0.2)(c3)\n",
        "c3 = tf.keras.layers.Conv2D(64, (3, 3), activation='relu', padding='same', kernel_initializer='he_normal')(c3)\n",
        "p3 = tf.keras.layers.MaxPool2D(pool_size=(2, 2))(c3)\n",
        "\n",
        "c4 = tf.keras.layers.Conv2D(128, (3, 3), activation='relu', padding='same', kernel_initializer='he_normal')(p3)\n",
        "c4 = tf.keras.layers.Dropout(0.2)(c4)\n",
        "c4 = tf.keras.layers.Conv2D(128, (3, 3), activation='relu', padding='same', kernel_initializer='he_normal')(c4)\n",
        "p4 = tf.keras.layers.MaxPool2D(pool_size=(2, 2))(c4)\n",
        "\n",
        "c5 = tf.keras.layers.Conv2D(256, (3, 3), activation='relu', padding='same', kernel_initializer='he_normal')(p4)\n",
        "c5 = tf.keras.layers.Dropout(0.3)(c5)\n",
        "c5 = tf.keras.layers.Conv2D(256, (3, 3), activation='relu', padding='same', kernel_initializer='he_normal')(c5)"
      ],
      "metadata": {
        "id": "MP-LL7YMWyd7"
      },
      "execution_count": 3,
      "outputs": []
    },
    {
      "cell_type": "markdown",
      "source": [
        "### Expansion Path"
      ],
      "metadata": {
        "id": "p2i6RRcyYwqd"
      }
    },
    {
      "cell_type": "code",
      "source": [
        "u6 = tf.keras.layers.Conv2DTranspose(128, (2, 2), strides=(2, 2), padding='same')(c5)\n",
        "u6 = tf.keras.layers.concatenate([u6, c4])\n",
        "c6 = tf.keras.layers.Conv2D(128, (3, 3), activation='relu', padding='same', kernel_initializer='he_normal')(u6)\n",
        "c6 = tf.keras.layers.Dropout(0.2)(c6)\n",
        "c6 = tf.keras.layers.Conv2D(128, (3, 3), activation='relu', padding='same', kernel_initializer='he_normal')(c6)\n",
        "\n",
        "u7 = tf.keras.layers.Conv2DTranspose(64, (2, 2), strides=(2, 2), padding='same')(c6)\n",
        "u7 = tf.keras.layers.concatenate([u7, c3])\n",
        "c7 = tf.keras.layers.Conv2D(64, (3, 3), activation='relu', padding='same', kernel_initializer='he_normal')(u7)\n",
        "c7 = tf.keras.layers.Dropout(0.2)(c7)\n",
        "c7 = tf.keras.layers.Conv2D(64, (3, 3), activation='relu', padding='same', kernel_initializer='he_normal')(c7)\n",
        "\n",
        "u8 = tf.keras.layers.Conv2DTranspose(32, (2, 2), strides=(2, 2), padding='same')(c7)\n",
        "u8 = tf.keras.layers.concatenate([u8, c2])\n",
        "c8 = tf.keras.layers.Conv2D(32, (3, 3), activation='relu', padding='same', kernel_initializer='he_normal')(u8)\n",
        "c8 = tf.keras.layers.Dropout(0.1)(c8)\n",
        "c8 = tf.keras.layers.Conv2D(32, (3, 3), activation='relu', padding='same', kernel_initializer='he_normal')(c8)\n",
        "\n",
        "u9 = tf.keras.layers.Conv2DTranspose(16, (2, 2), strides=(2, 2), padding='same')(c8)\n",
        "u9 = tf.keras.layers.concatenate([u9, c1])\n",
        "c9 = tf.keras.layers.Conv2D(16, (3, 3), activation='relu', padding='same', kernel_initializer='he_normal')(u9)\n",
        "c9 = tf.keras.layers.Dropout(0.1)(c9)\n",
        "c9 = tf.keras.layers.Conv2D(16, (3, 3), activation='relu', padding='same', kernel_initializer='he_normal')(c9)"
      ],
      "metadata": {
        "id": "UDPH2SkHYyNp"
      },
      "execution_count": 4,
      "outputs": []
    },
    {
      "cell_type": "code",
      "source": [
        "# model output\n",
        "outputs = tf.keras.layers.Conv2D(1, (1, 1), activation='sigmoid')(c9)"
      ],
      "metadata": {
        "id": "NeWz6CwgpJjD"
      },
      "execution_count": 5,
      "outputs": []
    },
    {
      "cell_type": "markdown",
      "source": [
        "### Compiling the Model"
      ],
      "metadata": {
        "id": "NfZsImJdpaUa"
      }
    },
    {
      "cell_type": "code",
      "source": [
        "model = tf.keras.Model(inputs=[inputs], outputs=[outputs])\n",
        "model.compile(optimizer='adam', loss='binary_crossentropy', metrics=['accuracy'])\n",
        "model.summary()"
      ],
      "metadata": {
        "id": "dwJY5_aWpdv3",
        "outputId": "d3a30840-c73e-4b02-df5f-4827005c722d",
        "colab": {
          "base_uri": "https://localhost:8080/"
        }
      },
      "execution_count": 6,
      "outputs": [
        {
          "output_type": "stream",
          "name": "stdout",
          "text": [
            "Model: \"model\"\n",
            "__________________________________________________________________________________________________\n",
            " Layer (type)                Output Shape                 Param #   Connected to                  \n",
            "==================================================================================================\n",
            " input_2 (InputLayer)        [(None, 128, 128, 3)]        0         []                            \n",
            "                                                                                                  \n",
            " conv2d (Conv2D)             (None, 128, 128, 16)         448       ['input_2[0][0]']             \n",
            "                                                                                                  \n",
            " dropout (Dropout)           (None, 128, 128, 16)         0         ['conv2d[1][0]']              \n",
            "                                                                                                  \n",
            " conv2d_1 (Conv2D)           (None, 128, 128, 16)         2320      ['dropout[1][0]']             \n",
            "                                                                                                  \n",
            " max_pooling2d (MaxPooling2  (None, 64, 64, 16)           0         ['conv2d_1[1][0]']            \n",
            " D)                                                                                               \n",
            "                                                                                                  \n",
            " conv2d_2 (Conv2D)           (None, 64, 64, 32)           4640      ['max_pooling2d[1][0]']       \n",
            "                                                                                                  \n",
            " dropout_1 (Dropout)         (None, 64, 64, 32)           0         ['conv2d_2[1][0]']            \n",
            "                                                                                                  \n",
            " conv2d_3 (Conv2D)           (None, 64, 64, 32)           9248      ['dropout_1[1][0]']           \n",
            "                                                                                                  \n",
            " max_pooling2d_1 (MaxPoolin  (None, 32, 32, 32)           0         ['conv2d_3[1][0]']            \n",
            " g2D)                                                                                             \n",
            "                                                                                                  \n",
            " conv2d_4 (Conv2D)           (None, 32, 32, 64)           18496     ['max_pooling2d_1[1][0]']     \n",
            "                                                                                                  \n",
            " dropout_2 (Dropout)         (None, 32, 32, 64)           0         ['conv2d_4[1][0]']            \n",
            "                                                                                                  \n",
            " conv2d_5 (Conv2D)           (None, 32, 32, 64)           36928     ['dropout_2[1][0]']           \n",
            "                                                                                                  \n",
            " max_pooling2d_2 (MaxPoolin  (None, 16, 16, 64)           0         ['conv2d_5[1][0]']            \n",
            " g2D)                                                                                             \n",
            "                                                                                                  \n",
            " conv2d_6 (Conv2D)           (None, 16, 16, 128)          73856     ['max_pooling2d_2[1][0]']     \n",
            "                                                                                                  \n",
            " dropout_3 (Dropout)         (None, 16, 16, 128)          0         ['conv2d_6[1][0]']            \n",
            "                                                                                                  \n",
            " conv2d_7 (Conv2D)           (None, 16, 16, 128)          147584    ['dropout_3[1][0]']           \n",
            "                                                                                                  \n",
            " max_pooling2d_3 (MaxPoolin  (None, 8, 8, 128)            0         ['conv2d_7[1][0]']            \n",
            " g2D)                                                                                             \n",
            "                                                                                                  \n",
            " conv2d_8 (Conv2D)           (None, 8, 8, 256)            295168    ['max_pooling2d_3[1][0]']     \n",
            "                                                                                                  \n",
            " dropout_4 (Dropout)         (None, 8, 8, 256)            0         ['conv2d_8[1][0]']            \n",
            "                                                                                                  \n",
            " conv2d_9 (Conv2D)           (None, 8, 8, 256)            590080    ['dropout_4[1][0]']           \n",
            "                                                                                                  \n",
            " conv2d_transpose (Conv2DTr  (None, 16, 16, 128)          131200    ['conv2d_9[1][0]']            \n",
            " anspose)                                                                                         \n",
            "                                                                                                  \n",
            " concatenate (Concatenate)   (None, 16, 16, 256)          0         ['conv2d_transpose[1][0]',    \n",
            "                                                                     'conv2d_7[1][0]']            \n",
            "                                                                                                  \n",
            " conv2d_10 (Conv2D)          (None, 16, 16, 128)          295040    ['concatenate[1][0]']         \n",
            "                                                                                                  \n",
            " dropout_5 (Dropout)         (None, 16, 16, 128)          0         ['conv2d_10[1][0]']           \n",
            "                                                                                                  \n",
            " conv2d_11 (Conv2D)          (None, 16, 16, 128)          147584    ['dropout_5[1][0]']           \n",
            "                                                                                                  \n",
            " conv2d_transpose_1 (Conv2D  (None, 32, 32, 64)           32832     ['conv2d_11[1][0]']           \n",
            " Transpose)                                                                                       \n",
            "                                                                                                  \n",
            " concatenate_1 (Concatenate  (None, 32, 32, 128)          0         ['conv2d_transpose_1[1][0]',  \n",
            " )                                                                   'conv2d_5[1][0]']            \n",
            "                                                                                                  \n",
            " conv2d_12 (Conv2D)          (None, 32, 32, 64)           73792     ['concatenate_1[1][0]']       \n",
            "                                                                                                  \n",
            " dropout_6 (Dropout)         (None, 32, 32, 64)           0         ['conv2d_12[1][0]']           \n",
            "                                                                                                  \n",
            " conv2d_13 (Conv2D)          (None, 32, 32, 64)           36928     ['dropout_6[1][0]']           \n",
            "                                                                                                  \n",
            " conv2d_transpose_2 (Conv2D  (None, 64, 64, 32)           8224      ['conv2d_13[1][0]']           \n",
            " Transpose)                                                                                       \n",
            "                                                                                                  \n",
            " concatenate_2 (Concatenate  (None, 64, 64, 64)           0         ['conv2d_transpose_2[1][0]',  \n",
            " )                                                                   'conv2d_3[1][0]']            \n",
            "                                                                                                  \n",
            " conv2d_14 (Conv2D)          (None, 64, 64, 32)           18464     ['concatenate_2[1][0]']       \n",
            "                                                                                                  \n",
            " dropout_7 (Dropout)         (None, 64, 64, 32)           0         ['conv2d_14[1][0]']           \n",
            "                                                                                                  \n",
            " conv2d_15 (Conv2D)          (None, 64, 64, 32)           9248      ['dropout_7[1][0]']           \n",
            "                                                                                                  \n",
            " conv2d_transpose_3 (Conv2D  (None, 128, 128, 16)         2064      ['conv2d_15[1][0]']           \n",
            " Transpose)                                                                                       \n",
            "                                                                                                  \n",
            " concatenate_3 (Concatenate  (None, 128, 128, 32)         0         ['conv2d_transpose_3[1][0]',  \n",
            " )                                                                   'conv2d_1[1][0]']            \n",
            "                                                                                                  \n",
            " conv2d_16 (Conv2D)          (None, 128, 128, 16)         4624      ['concatenate_3[1][0]']       \n",
            "                                                                                                  \n",
            " dropout_8 (Dropout)         (None, 128, 128, 16)         0         ['conv2d_16[1][0]']           \n",
            "                                                                                                  \n",
            " conv2d_17 (Conv2D)          (None, 128, 128, 16)         2320      ['dropout_8[1][0]']           \n",
            "                                                                                                  \n",
            " conv2d_18 (Conv2D)          (None, 128, 128, 1)          17        ['conv2d_17[1][0]']           \n",
            "                                                                                                  \n",
            "==================================================================================================\n",
            "Total params: 1941105 (7.40 MB)\n",
            "Trainable params: 1941105 (7.40 MB)\n",
            "Non-trainable params: 0 (0.00 Byte)\n",
            "__________________________________________________________________________________________________\n"
          ]
        }
      ]
    },
    {
      "cell_type": "markdown",
      "source": [
        "### Checkpoints and Callbacks"
      ],
      "metadata": {
        "id": "Jf15te4LOJrT"
      }
    },
    {
      "cell_type": "code",
      "source": [
        "# model checkpoint\n",
        "checkpointer = tf.keras.callbacks.ModelCheckpoint('model_for_nuclei.h5', verbose=1, save_best_only=True)\n",
        "\n",
        "# callbacks\n",
        "callbacks = [\n",
        "    tf.keras.callbacks.EarlyStopping(patience=2, monitor='val_loss'),\n",
        "    tf.keras.callbacks.TensorBoard(log_dir='logs'),\n",
        "]"
      ],
      "metadata": {
        "id": "DdjdCWD2OLg-"
      },
      "execution_count": 7,
      "outputs": []
    },
    {
      "cell_type": "markdown",
      "source": [
        "### Downloading the Data"
      ],
      "metadata": {
        "id": "UI6L9cDebie2"
      }
    },
    {
      "cell_type": "code",
      "source": [
        "# download the data\n",
        "def download_and_unzip(url, save_path):\n",
        "\n",
        "  print(\"Downloading the data...\")\n",
        "\n",
        "  urlretrieve(url, save_path)\n",
        "\n",
        "  # extract the files\n",
        "  try:\n",
        "    with ZipFile(save_path) as f:\n",
        "      path = save_path.split('.')[0]\n",
        "      f.extractall(path)\n",
        "      os.remove(save_path)\n",
        "\n",
        "      print('Done')\n",
        "  except Exception as e:\n",
        "    print(\"Invalid file \", e)\n",
        "\n",
        "\n",
        "def extract_all(dir):\n",
        "  zip_files = glob(dir + '/*.zip')\n",
        "  for path in zip_files:\n",
        "    try:\n",
        "      with ZipFile(path) as f:\n",
        "        f.extractall(path.split('.')[0])\n",
        "        os.remove(path)\n",
        "        print(f'Extracted {path}')\n",
        "\n",
        "    except Exception as e:\n",
        "      print(\"Invalid file \", e)"
      ],
      "metadata": {
        "id": "j_b9AayHRvF4"
      },
      "execution_count": 23,
      "outputs": []
    },
    {
      "cell_type": "code",
      "source": [
        "url = 'https://storage.googleapis.com/kaggle-competitions-data/kaggle-v2/8089/44321/bundle/archive.zip?GoogleAccessId=web-data@kaggle-161607.iam.gserviceaccount.com&Expires=1704359198&Signature=McrhIPg1r%2Bp7kwzyYbR0k%2FW27ejEqAAIZwZMdzAlYvVWlm89YOXdaLoS8KnreD3CBzgN2q29HkWd1xvAABXPoA9sc99VJGo3V6aoi3Pcn2e95w09FXwBi2Pm0cvrOoMfY7lBv0zXnYq3Vn5Yk6ClyqUpOXVMMGwCGpSOV6ZOcfEPu%2FPECI44ak5o6J8UywVo2RnTn9pk5uE%2F7672ojuE0x2Xc0ImyCMbOD59eTrBurtXtg5yhc3kXGzT2URCl9ISM7k%2B1XkgkNtoxUrJ4ojCQ1y3NxXWNv%2FBfDqdv8V3h8EkXB6D3oDjBpS4Afwjv1CIoucK%2BYJIQIxnjKopGlserQ%3D%3D&response-content-disposition=attachment%3B+filename%3Ddata-science-bowl-2018.zip'\n",
        "filename = 'data_science_bowl_2018.zip'\n",
        "\n",
        "download_and_unzip(url, filename)\n",
        "extract_all('data_science_bowl_2018')"
      ],
      "metadata": {
        "id": "seUhhj0oUBEj",
        "outputId": "f4c76eb2-3a44-455d-a88c-311d37d77126",
        "colab": {
          "base_uri": "https://localhost:8080/"
        }
      },
      "execution_count": 24,
      "outputs": [
        {
          "output_type": "stream",
          "name": "stdout",
          "text": [
            "Downloading the data...\n",
            "Done\n",
            "Extracted data_science_bowl_2018/stage1_train_labels.csv.zip\n",
            "Extracted data_science_bowl_2018/stage1_solution.csv.zip\n",
            "Extracted data_science_bowl_2018/stage2_sample_submission_final.csv.zip\n",
            "Extracted data_science_bowl_2018/stage1_train.zip\n",
            "Extracted data_science_bowl_2018/stage1_sample_submission.csv.zip\n",
            "Extracted data_science_bowl_2018/stage2_test_final.zip\n",
            "Extracted data_science_bowl_2018/stage1_test.zip\n"
          ]
        }
      ]
    },
    {
      "cell_type": "markdown",
      "source": [
        "### Preparing the Data"
      ],
      "metadata": {
        "id": "EyE-Hq6LbnYn"
      }
    },
    {
      "cell_type": "code",
      "source": [
        "TRAIN_PATH = '/content/data_science_bowl_2018/stage1_train'\n",
        "TEST_PATH = '/content/data_science_bowl_2018/stage1_test'\n",
        "\n",
        "train_ids = next(os.walk(TRAIN_PATH))[1]\n",
        "test_ids = next(os.walk(TEST_PATH))[1]\n",
        "\n",
        "X_train = np.zeros((len(train_ids), IMG_HEIGHT, IMG_WIDTH, IMG_CHANNELS), dtype=np.uint8)\n",
        "Y_train = np.zeros((len(train_ids), IMG_HEIGHT, IMG_WIDTH, 1), dtype=bool)\n",
        "\n",
        "for n, id_ in tqdm(enumerate(train_ids), position=0, leave=True, total=len(train_ids)):\n",
        "  path = os.path.join(TRAIN_PATH, id_)\n",
        "  img = imread(os.path.join(path, 'images', f'{id_}.png'))[:, :, :IMG_CHANNELS]\n",
        "  img = resize(img, (IMG_HEIGHT, IMG_WIDTH), mode='constant', preserve_range=True)\n",
        "  X_train[n] = img\n",
        "\n",
        "  mask = np.zeros((IMG_HEIGHT, IMG_WIDTH, 1), dtype=bool)\n",
        "  for mask_file in next(os.walk(path + '/masks/'))[2]:\n",
        "    mask_ = imread(os.path.join(path, 'masks', mask_file))\n",
        "    mask_ = np.expand_dims(resize(mask_, (IMG_HEIGHT, IMG_WIDTH), mode='constant', preserve_range=True), axis=-1)\n",
        "    mask = np.maximum(mask, mask_)\n",
        "\n",
        "  Y_train[n] = mask"
      ],
      "metadata": {
        "id": "AjApaS0jUCeL",
        "outputId": "2902cc4c-926b-49ed-a545-18add150cfcd",
        "colab": {
          "base_uri": "https://localhost:8080/"
        }
      },
      "execution_count": 64,
      "outputs": [
        {
          "output_type": "stream",
          "name": "stderr",
          "text": [
            "100%|██████████| 670/670 [05:59<00:00,  1.86it/s]\n"
          ]
        }
      ]
    },
    {
      "cell_type": "code",
      "source": [
        "idx = np.random.randint(0, len(train_ids))\n",
        "imshow(X_train[idx])\n",
        "plt.show()\n",
        "imshow(Y_train[idx])\n",
        "plt.show()"
      ],
      "metadata": {
        "id": "VIP5NcWwmVkn",
        "outputId": "94090935-a069-4cbc-af2a-b79cd202921c",
        "colab": {
          "base_uri": "https://localhost:8080/",
          "height": 955
        }
      },
      "execution_count": 68,
      "outputs": [
        {
          "output_type": "display_data",
          "data": {
            "text/plain": [
              "<Figure size 640x480 with 1 Axes>"
            ],
            "image/png": "[encoded data removed]"
          },
          "metadata": {}
        },
        {
          "output_type": "display_data",
          "data": {
            "text/plain": [
              "<Figure size 640x480 with 1 Axes>"
            ],
            "image/png": "[encoded data removed]"
          },
          "metadata": {}
        }
      ]
    },
    {
      "cell_type": "markdown",
      "source": [],
      "metadata": {
        "id": "XZ4Ve12at2pB"
      }
    }
  ]
}